{
 "cells": [
  {
   "cell_type": "markdown",
   "metadata": {},
   "source": [
    "# Self-Driving Car Engineer Nanodegree\n",
    "\n",
    "## Deep Learning\n",
    "\n",
    "## Project: Build a Traffic Sign Recognition Classifier\n",
    "\n",
    "In this notebook, a template is provided for you to implement your functionality in stages, which is required to successfully complete this project. If additional code is required that cannot be included in the notebook, be sure that the Python code is successfully imported and included in your submission if necessary. \n",
    "\n",
    "> **Note**: Once you have completed all of the code implementations, you need to finalize your work by exporting the iPython Notebook as an HTML document. Before exporting the notebook to html, all of the code cells need to have been run so that reviewers can see the final implementation and output. You can then export the notebook by using the menu above and navigating to  \\n\",\n",
    "    \"**File -> Download as -> HTML (.html)**. Include the finished document along with this notebook as your submission. \n",
    "\n",
    "In addition to implementing code, there is a writeup to complete. The writeup should be completed in a separate file, which can be either a markdown file or a pdf document. There is a [write up template](https://github.com/udacity/CarND-Traffic-Sign-Classifier-Project/blob/master/writeup_template.md) that can be used to guide the writing process. Completing the code template and writeup template will cover all of the [rubric points](https://review.udacity.com/#!/rubrics/481/view) for this project.\n",
    "\n",
    "The [rubric](https://review.udacity.com/#!/rubrics/481/view) contains \"Stand Out Suggestions\" for enhancing the project beyond the minimum requirements. The stand out suggestions are optional. If you decide to pursue the \"stand out suggestions\", you can include the code in this Ipython notebook and also discuss the results in the writeup file.\n",
    "\n",
    "\n",
    ">**Note:** Code and Markdown cells can be executed using the **Shift + Enter** keyboard shortcut. In addition, Markdown cells can be edited by typically double-clicking the cell to enter edit mode."
   ]
  },
  {
   "cell_type": "markdown",
   "metadata": {},
   "source": [
    "---\n",
    "## Step 0: Load The Data"
   ]
  },
  {
   "cell_type": "code",
   "execution_count": 68,
   "metadata": {
    "collapsed": true
   },
   "outputs": [],
   "source": [
    "import pickle\n",
    "# TODO: Fill this in based on where you saved the training and testing data\n",
    "datasets_path = \"./traffic-signs-data/\"\n",
    "models_path = \"./models/\"\n",
    "\n",
    "training_file = datasets_path + 'train.p'\n",
    "validation_file= datasets_path + 'valid.p'\n",
    "testing_file = datasets_path + 'test.p'\n",
    "\n",
    "with open(training_file, mode='rb') as f:\n",
    "    train = pickle.load(f)\n",
    "with open(validation_file, mode='rb') as f:\n",
    "    valid = pickle.load(f)\n",
    "with open(testing_file, mode='rb') as f:\n",
    "    test = pickle.load(f)\n",
    "    \n",
    "X_train, y_train = train['features'], train['labels']\n",
    "X_valid, y_valid = valid['features'], valid['labels']\n",
    "X_test, y_test = test['features'], test['labels']"
   ]
  },
  {
   "cell_type": "markdown",
   "metadata": {},
   "source": [
    "---\n",
    "\n",
    "## Step 1: Dataset Summary & Exploration\n",
    "\n",
    "The pickled data is a dictionary with 4 key/value pairs:\n",
    "\n",
    "- `'features'` is a 4D array containing raw pixel data of the traffic sign images, (num examples, width, height, channels).\n",
    "- `'labels'` is a 1D array containing the label/class id of the traffic sign. The file `signnames.csv` contains id -> name mappings for each id.\n",
    "- `'sizes'` is a list containing tuples, (width, height) representing the original width and height the image.\n",
    "- `'coords'` is a list containing tuples, (x1, y1, x2, y2) representing coordinates of a bounding box around the sign in the image. **THESE COORDINATES ASSUME THE ORIGINAL IMAGE. THE PICKLED DATA CONTAINS RESIZED VERSIONS (32 by 32) OF THESE IMAGES**\n",
    "\n",
    "Complete the basic data summary below. Use python, numpy and/or pandas methods to calculate the data summary rather than hard coding the results. For example, the [pandas shape method](http://pandas.pydata.org/pandas-docs/stable/generated/pandas.DataFrame.shape.html) might be useful for calculating some of the summary results. "
   ]
  },
  {
   "cell_type": "markdown",
   "metadata": {},
   "source": [
    "### Provide a Basic Summary of the Data Set Using Python, Numpy and/or Pandas"
   ]
  },
  {
   "cell_type": "code",
   "execution_count": 69,
   "metadata": {},
   "outputs": [
    {
     "name": "stdout",
     "output_type": "stream",
     "text": [
      "Number of training examples = 34799\n",
      "Number of validation examples = 4410\n",
      "Number of testing examples = 12630\n",
      "Image data shape = (32, 32, 3)\n",
      "Number of classes = 43\n"
     ]
    }
   ],
   "source": [
    "### Replace each question mark with the appropriate value. \n",
    "### Use python, pandas or numpy methods rather than hard coding the results\n",
    "\n",
    "# TODO: Number of training examples\n",
    "n_train = X_train.shape[0]\n",
    "\n",
    "# TODO: Number of validation examples\n",
    "n_validation = X_valid.shape[0]\n",
    "\n",
    "# TODO: Number of testing examples.\n",
    "n_test = X_test.shape[0]\n",
    "\n",
    "# TODO: What's the shape of an traffic sign image?\n",
    "image_shape = X_train.shape[1:]\n",
    "\n",
    "# TODO: How many unique classes/labels there are in the dataset.\n",
    "n_classes = len(set(y_train))\n",
    "\n",
    "print(\"Number of training examples =\", n_train)\n",
    "print(\"Number of validation examples =\", n_validation)\n",
    "print(\"Number of testing examples =\", n_test)\n",
    "print(\"Image data shape =\", image_shape)\n",
    "print(\"Number of classes =\", n_classes)"
   ]
  },
  {
   "cell_type": "markdown",
   "metadata": {},
   "source": [
    "### Include an exploratory visualization of the dataset"
   ]
  },
  {
   "cell_type": "markdown",
   "metadata": {},
   "source": [
    "Visualize the German Traffic Signs Dataset using the pickled file(s). This is open ended, suggestions include: plotting traffic sign images, plotting the count of each sign, etc. \n",
    "\n",
    "The [Matplotlib](http://matplotlib.org/) [examples](http://matplotlib.org/examples/index.html) and [gallery](http://matplotlib.org/gallery.html) pages are a great resource for doing visualizations in Python.\n",
    "\n",
    "**NOTE:** It's recommended you start with something simple first. If you wish to do more, come back to it after you've completed the rest of the sections. It can be interesting to look at the distribution of classes in the training, validation and test set. Is the distribution the same? Are there more examples of some classes than others?"
   ]
  },
  {
   "cell_type": "code",
   "execution_count": 70,
   "metadata": {},
   "outputs": [
    {
     "name": "stdout",
     "output_type": "stream",
     "text": [
      "18\n"
     ]
    },
    {
     "data": {
      "image/png": "[encoded data removed]",
      "text/plain": [
       "<matplotlib.figure.Figure at 0x105be6438>"
      ]
     },
     "metadata": {},
     "output_type": "display_data"
    }
   ],
   "source": [
    "### Data exploration visualization code goes here.\n",
    "### Feel free to use as many code cells as needed.\n",
    "import matplotlib.pyplot as plt\n",
    "import random\n",
    "# Visualizations will be shown in the notebook.\n",
    "%matplotlib inline\n",
    "\n",
    "index = random.randint(0, len(X_train))\n",
    "image = X_train[index].squeeze()\n",
    "plt.figure(figsize=(2,2))\n",
    "plt.imshow(image)\n",
    "print(y_train[index])"
   ]
  },
  {
   "cell_type": "code",
   "execution_count": 71,
   "metadata": {},
   "outputs": [
    {
     "data": {
      "text/html": [
       "<div>\n",
       "<style>\n",
       "    .dataframe thead tr:only-child th {\n",
       "        text-align: right;\n",
       "    }\n",
       "\n",
       "    .dataframe thead th {\n",
       "        text-align: left;\n",
       "    }\n",
       "\n",
       "    .dataframe tbody tr th {\n",
       "        vertical-align: top;\n",
       "    }\n",
       "</style>\n",
       "<table border=\"1\" class=\"dataframe\">\n",
       "  <thead>\n",
       "    <tr style=\"text-align: right;\">\n",
       "      <th></th>\n",
       "      <th>ClassId</th>\n",
       "      <th>SignName</th>\n",
       "    </tr>\n",
       "  </thead>\n",
       "  <tbody>\n",
       "    <tr>\n",
       "      <th>0</th>\n",
       "      <td>0</td>\n",
       "      <td>Speed limit (20km/h)</td>\n",
       "    </tr>\n",
       "    <tr>\n",
       "      <th>1</th>\n",
       "      <td>1</td>\n",
       "      <td>Speed limit (30km/h)</td>\n",
       "    </tr>\n",
       "    <tr>\n",
       "      <th>2</th>\n",
       "      <td>2</td>\n",
       "      <td>Speed limit (50km/h)</td>\n",
       "    </tr>\n",
       "    <tr>\n",
       "      <th>3</th>\n",
       "      <td>3</td>\n",
       "      <td>Speed limit (60km/h)</td>\n",
       "    </tr>\n",
       "    <tr>\n",
       "      <th>4</th>\n",
       "      <td>4</td>\n",
       "      <td>Speed limit (70km/h)</td>\n",
       "    </tr>\n",
       "  </tbody>\n",
       "</table>\n",
       "</div>"
      ],
      "text/plain": [
       "   ClassId              SignName\n",
       "0        0  Speed limit (20km/h)\n",
       "1        1  Speed limit (30km/h)\n",
       "2        2  Speed limit (50km/h)\n",
       "3        3  Speed limit (60km/h)\n",
       "4        4  Speed limit (70km/h)"
      ]
     },
     "execution_count": 71,
     "metadata": {},
     "output_type": "execute_result"
    }
   ],
   "source": [
    "#group images by class\n",
    "import pandas as pd\n",
    "sign_names = pd.read_csv(\"signnames.csv\")\n",
    "sign_names.set_index(\"ClassId\")\n",
    "sign_names.head(n=5)"
   ]
  },
  {
   "cell_type": "code",
   "execution_count": 72,
   "metadata": {},
   "outputs": [
    {
     "data": {
      "text/plain": [
       "<matplotlib.axes._subplots.AxesSubplot at 0x14f125780>"
      ]
     },
     "execution_count": 72,
     "metadata": {},
     "output_type": "execute_result"
    },
    {
     "data": {
      "image/png": "[encoded data removed]",
      "text/plain": [
       "<matplotlib.figure.Figure at 0x14ebacf60>"
      ]
     },
     "metadata": {},
     "output_type": "display_data"
    }
   ],
   "source": [
    "#count the number of images for each class\n",
    "arr_map = []\n",
    "for i in range(0, y_train.shape[0]):\n",
    "    label_id = y_train[i]\n",
    "    label_name = sign_names[sign_names[\"ClassId\"] == label_id][\"SignName\"].values[0]\n",
    "    arr_map.append({\"img_id\": i, \"label_id\": label_id, \"label_name\": label_name})\n",
    "X_train_id_to_label = pd.DataFrame(arr_map)\n",
    "X_train_group_by_label_count =  pd.pivot_table(X_train_id_to_label,index=[\"label_id\",\"label_name\"],values=[\"img_id\"], aggfunc='count')\n",
    "X_train_group_by_label_count.plot(kind='bar', figsize=(14, 7))"
   ]
  },
  {
   "cell_type": "markdown",
   "metadata": {},
   "source": [
    "----\n",
    "\n",
    "## Step 2: Design and Test a Model Architecture\n",
    "\n",
    "Design and implement a deep learning model that learns to recognize traffic signs. Train and test your model on the [German Traffic Sign Dataset](http://benchmark.ini.rub.de/?section=gtsrb&subsection=dataset).\n",
    "\n",
    "The LeNet-5 implementation shown in the [classroom](https://classroom.udacity.com/nanodegrees/nd013/parts/fbf77062-5703-404e-b60c-95b78b2f3f9e/modules/6df7ae49-c61c-4bb2-a23e-6527e69209ec/lessons/601ae704-1035-4287-8b11-e2c2716217ad/concepts/d4aca031-508f-4e0b-b493-e7b706120f81) at the end of the CNN lesson is a solid starting point. You'll have to change the number of classes and possibly the preprocessing, but aside from that it's plug and play! \n",
    "\n",
    "With the LeNet-5 solution from the lecture, you should expect a validation set accuracy of about 0.89. To meet specifications, the validation set accuracy will need to be at least 0.93. It is possible to get an even higher accuracy, but 0.93 is the minimum for a successful project submission. \n",
    "\n",
    "There are various aspects to consider when thinking about this problem:\n",
    "\n",
    "- Neural network architecture (is the network over or underfitting?)\n",
    "- Play around preprocessing techniques (normalization, rgb to grayscale, etc)\n",
    "- Number of examples per label (some have more than others).\n",
    "- Generate fake data.\n",
    "\n",
    "Here is an example of a [published baseline model on this problem](http://yann.lecun.com/exdb/publis/pdf/sermanet-ijcnn-11.pdf). It's not required to be familiar with the approach used in the paper but, it's good practice to try to read papers like these."
   ]
  },
  {
   "cell_type": "markdown",
   "metadata": {},
   "source": [
    "### Pre-process the Data Set (normalization, grayscale, etc.)"
   ]
  },
  {
   "cell_type": "markdown",
   "metadata": {},
   "source": [
    "Minimally, the image data should be normalized so that the data has mean zero and equal variance. For image data, `(pixel - 128)/ 128` is a quick way to approximately normalize the data and can be used in this project. \n",
    "\n",
    "Other pre-processing steps are optional. You can try different techniques to see if it improves performance. \n",
    "\n",
    "Use the code cell (or multiple code cells, if necessary) to implement the first step of your project."
   ]
  },
  {
   "cell_type": "code",
   "execution_count": 73,
   "metadata": {
    "collapsed": true
   },
   "outputs": [],
   "source": [
    "import cv2\n",
    "def to_grayscale(img):\n",
    "    \"\"\"\n",
    "    Converts an image in RGB format to grayscale\n",
    "    \"\"\"\n",
    "    return cv2.cvtColor(img, cv2.COLOR_RGB2GRAY)"
   ]
  },
  {
   "cell_type": "code",
   "execution_count": 74,
   "metadata": {
    "collapsed": true
   },
   "outputs": [],
   "source": [
    "import numpy as np\n",
    "# Graying the image\n",
    "X_train_grayscale = np.asarray(list(map(lambda img: to_grayscale(img), X_train))) \n",
    "X_valid_grayscale = np.asarray(list(map(lambda img: to_grayscale(img), X_valid))) \n",
    "X_test_grayscale = np.asarray(list(map(lambda img: to_grayscale(img), X_test))) "
   ]
  },
  {
   "cell_type": "code",
   "execution_count": 77,
   "metadata": {
    "collapsed": true
   },
   "outputs": [],
   "source": [
    "#Equalized the image\n",
    "clahe = cv2.createCLAHE(tileGridSize=(2,2), clipLimit=15.0)\n",
    "X_train_grayscale_equalized = np.asarray(list(map(lambda img: clahe.apply(np.reshape(img, (32, 32))), X_train_grayscale)))\n",
    "X_valid_grayscale_equalized = np.asarray(list(map(lambda img: clahe.apply(np.reshape(img, (32, 32))), X_valid_grayscale)))\n",
    "X_test_grayscale_equalized = np.asarray(list(map(lambda img: clahe.apply(np.reshape(img, (32, 32))), X_test_grayscale)))"
   ]
  },
  {
   "cell_type": "code",
   "execution_count": 78,
   "metadata": {
    "collapsed": true
   },
   "outputs": [],
   "source": [
    "def normalise_images(imgs, dist):\n",
    "    \"\"\"\n",
    "    Nornalise the supplied images from data in dist\n",
    "    \"\"\"\n",
    "    std = np.std(dist)\n",
    "    #std = 128\n",
    "    mean = np.mean(dist)\n",
    "    #mean = 128\n",
    "    return (imgs - mean) / std"
   ]
  },
  {
   "cell_type": "code",
   "execution_count": 79,
   "metadata": {
    "collapsed": true
   },
   "outputs": [],
   "source": [
    "# Normalized the image\n",
    "X_train_grayscale_equalized_normalised = normalise_images(X_train_grayscale_equalized, X_train_grayscale_equalized)\n",
    "X_valid_grayscale_equalized_normalised = normalise_images(X_valid_grayscale_equalized, X_train_grayscale_equalized)\n",
    "X_test_grayscale_equalized_normalised = normalise_images(X_test_grayscale_equalized, X_train_grayscale_equalized)"
   ]
  },
  {
   "cell_type": "code",
   "execution_count": 85,
   "metadata": {
    "collapsed": true
   },
   "outputs": [],
   "source": [
    "# Reshape image\n",
    "X_train_grayscale_equalized_normalised = np.reshape(X_train_grayscale_equalized_normalised, (X_train_grayscale_equalized_normalised.shape[0], 32, 32, 1))\n",
    "X_valid_grayscale_equalized_normalised = np.reshape(X_valid_grayscale_equalized_normalised, (X_valid_grayscale_equalized_normalised.shape[0], 32, 32, 1))\n",
    "X_test_grayscale_equalized_normalised = np.reshape(X_test_grayscale_equalized_normalised, (X_test_grayscale_equalized_normalised.shape[0], 32, 32, 1))"
   ]
  },
  {
   "cell_type": "markdown",
   "metadata": {},
   "source": [
    "### Model Architecture"
   ]
  },
  {
   "cell_type": "code",
   "execution_count": 87,
   "metadata": {
    "collapsed": true
   },
   "outputs": [],
   "source": [
    "from tensorflow.contrib.layers import flatten\n",
    "\n",
    "def LeNet(x):    \n",
    "    # Used for randomly definining weights and biases\n",
    "    mu = 0\n",
    "    sigma = 0.1\n",
    "    \n",
    "    prev_conv_layer = x\n",
    "    conv_depth = 32\n",
    "    conv_input_depth = 1\n",
    "    conv_layers_count = 3\n",
    "    conv_filter_size = 3\n",
    "    fc_output_dims = [120, 84]\n",
    "    output_classes = 43\n",
    "    dropout_conv_pct = 0.6\n",
    "    dropout_fc_pct = 0.5\n",
    "       \n",
    "    conv_output_depth = conv_depth\n",
    "    conv_W = tf.Variable(tf.truncated_normal(shape=(conv_filter_size, conv_filter_size, conv_input_depth, conv_output_depth), mean = mu, stddev = sigma))\n",
    "    conv_b = tf.Variable(tf.zeros(conv_output_depth))\n",
    "    conv_output = tf.nn.conv2d(prev_conv_layer, conv_W, strides=[1, 1, 1, 1], padding='VALID', name=\"conv_{0}\".format(0)) + conv_b\n",
    "    conv_output = tf.nn.relu(conv_output, name=\"conv_{0}_relu\".format(0))\n",
    "    conv_output = tf.nn.max_pool(conv_output, ksize=[1, 2, 2, 1], strides=[1, 2, 2, 1], padding='VALID')\n",
    "    prev_conv_layer = conv_output\n",
    "    conv_input_depth = conv_output_depth\n",
    "    \n",
    "    conv_output_depth = conv_depth * 2\n",
    "    conv_W = tf.Variable(tf.truncated_normal(shape=(conv_filter_size, conv_filter_size, conv_input_depth, conv_output_depth), mean = mu, stddev = sigma))\n",
    "    conv_b = tf.Variable(tf.zeros(conv_output_depth))\n",
    "    conv_output = tf.nn.conv2d(prev_conv_layer, conv_W, strides=[1, 1, 1, 1], padding='VALID', name=\"conv_{0}\".format(1)) + conv_b\n",
    "    conv_output = tf.nn.relu(conv_output, name=\"conv_{0}_relu\".format(1))\n",
    "    conv_output = tf.nn.max_pool(conv_output, ksize=[1, 2, 2, 1], strides=[1, 2, 2, 1], padding='VALID')\n",
    "    prev_conv_layer = conv_output\n",
    "    conv_input_depth = conv_output_depth\n",
    "    \n",
    "    conv_output_depth = conv_depth * 4\n",
    "    conv_W = tf.Variable(tf.truncated_normal(shape=(conv_filter_size, conv_filter_size, conv_input_depth, conv_output_depth), mean = mu, stddev = sigma))\n",
    "    conv_b = tf.Variable(tf.zeros(conv_output_depth))\n",
    "    conv_output = tf.nn.conv2d(prev_conv_layer, conv_W, strides=[1, 1, 1, 1], padding='VALID', name=\"conv_{0}\".format(2)) + conv_b\n",
    "    conv_output = tf.nn.relu(conv_output, name=\"conv_{0}_relu\".format(2))\n",
    "    conv_output = tf.nn.max_pool(conv_output, ksize=[1, 2, 2, 1], strides=[1, 2, 2, 1], padding='VALID')\n",
    "    prev_conv_layer = conv_output\n",
    "    conv_input_depth = conv_output_depth\n",
    "    \n",
    "    # Flatten results of second convolutional layer so that it can be supplied to fully connected layer\n",
    "    fc0   = flatten(prev_conv_layer)\n",
    "    \n",
    "    # Now creating our fully connected layers\n",
    "    prev_layer = fc0\n",
    "    for output_dim in fc_output_dims:\n",
    "        fcn_W  = tf.Variable(tf.truncated_normal(shape=(prev_layer.get_shape().as_list()[-1], output_dim), \n",
    "                                                 mean = mu, stddev = sigma))\n",
    "        fcn_b  = tf.Variable(tf.zeros(output_dim))\n",
    "        \n",
    "        prev_layer   = tf.nn.dropout(tf.nn.relu(tf.matmul(prev_layer, fcn_W) + fcn_b), dropout_fc_pct)\n",
    "\n",
    "    \n",
    "    # Final layer (Fully Connected)\n",
    "    fc_final_W  = tf.Variable(tf.truncated_normal(shape=(prev_layer.get_shape().as_list()[-1], output_classes), \n",
    "                                                  mean = mu, stddev = sigma))\n",
    "    fc_final_b  = tf.Variable(tf.zeros(output_classes))\n",
    "    logits = tf.matmul(prev_layer, fc_final_W) + fc_final_b\n",
    "    \n",
    "    return logits"
   ]
  },
  {
   "cell_type": "markdown",
   "metadata": {},
   "source": [
    "### Train, Validate and Test the Model"
   ]
  },
  {
   "cell_type": "markdown",
   "metadata": {},
   "source": [
    "A validation set can be used to assess how well the model is performing. A low accuracy on the training and validation\n",
    "sets imply underfitting. A high accuracy on the training set but low accuracy on the validation set implies overfitting."
   ]
  },
  {
   "cell_type": "code",
   "execution_count": 88,
   "metadata": {
    "collapsed": true
   },
   "outputs": [],
   "source": [
    "import tensorflow as tf\n",
    "\n",
    "x = tf.placeholder(tf.float32, (None, 32, 32, 1))\n",
    "y = tf.placeholder(tf.int32, (None))\n",
    "one_hot_y = tf.one_hot(y, n_classes)\n",
    "dropout_placeholder_conv = tf.placeholder(tf.float32)\n",
    "dropout_placeholder_fc = tf.placeholder(tf.float32)"
   ]
  },
  {
   "cell_type": "code",
   "execution_count": 89,
   "metadata": {
    "collapsed": true
   },
   "outputs": [],
   "source": [
    "rate = 0.001\n",
    "\n",
    "logits = LeNet(x)\n",
    "cross_entropy = tf.nn.softmax_cross_entropy_with_logits(labels=one_hot_y, logits=logits)\n",
    "loss_operation = tf.reduce_mean(cross_entropy)\n",
    "optimizer = tf.train.AdamOptimizer(learning_rate = rate)\n",
    "training_operation = optimizer.minimize(loss_operation)"
   ]
  },
  {
   "cell_type": "code",
   "execution_count": 90,
   "metadata": {
    "collapsed": true
   },
   "outputs": [],
   "source": [
    "correct_prediction = tf.equal(tf.argmax(logits, 1), tf.argmax(one_hot_y, 1))\n",
    "accuracy_operation = tf.reduce_mean(tf.cast(correct_prediction, tf.float32))\n",
    "saver = tf.train.Saver()\n",
    "\n",
    "def evaluate(X_data, y_data, batch_size):\n",
    "    num_examples = len(X_data)\n",
    "    total_accuracy = 0.0\n",
    "    total_loss = 0.0\n",
    "    sess = tf.get_default_session()\n",
    "\n",
    "    for offset in range(0, num_examples, batch_size):\n",
    "        batch_x, batch_y = X_data[offset:offset + batch_size], y_data[offset:offset + batch_size]\n",
    "            \n",
    "        # Compute both accuracy and loss for this batch\n",
    "        accuracy = sess.run(accuracy_operation, \n",
    "                            feed_dict={\n",
    "                                dropout_placeholder_conv: 1.0,\n",
    "                                dropout_placeholder_fc: 1.0,\n",
    "                                x: batch_x, \n",
    "                                y: batch_y\n",
    "                                           })\n",
    "        loss = sess.run(loss_operation, feed_dict={\n",
    "                                dropout_placeholder_conv: 1.0,\n",
    "                                dropout_placeholder_fc: 1.0,\n",
    "                                x: batch_x, \n",
    "                                y: batch_y\n",
    "                                           })\n",
    "\n",
    "        # Weighting accuracy by the total number of elements in batch\n",
    "        total_accuracy += (accuracy * len(batch_x))        \n",
    "        total_loss += (loss * len(batch_x))            \n",
    "\n",
    "    # To produce a true mean accuracy over whole dataset\n",
    "    return (total_accuracy / num_examples, total_loss / num_examples)"
   ]
  },
  {
   "cell_type": "code",
   "execution_count": 91,
   "metadata": {},
   "outputs": [
    {
     "name": "stdout",
     "output_type": "stream",
     "text": [
      "Training expmodel [epochs=50, batch_size=512]...\n",
      "\n",
      "[1]\ttotal=109.299s | train: time=59.776s, loss=2.6681, acc=0.2809 | val: time=49.523s, loss=2.7973, acc=0.2574\n",
      "[10]\ttotal=101.930s | train: time=64.331s, loss=0.2908, acc=0.9061 | val: time=37.599s, loss=0.4300, acc=0.8642\n",
      "[20]\ttotal=94.051s | train: time=54.879s, loss=0.1304, acc=0.9569 | val: time=39.171s, loss=0.3005, acc=0.9073\n",
      "[30]\ttotal=93.967s | train: time=52.652s, loss=0.0916, acc=0.9700 | val: time=41.315s, loss=0.2717, acc=0.9302\n",
      "[40]\ttotal=100.441s | train: time=60.179s, loss=0.0583, acc=0.9813 | val: time=40.262s, loss=0.2356, acc=0.9438\n",
      "[50]\ttotal=139.588s | train: time=82.617s, loss=0.0519, acc=0.9836 | val: time=56.971s, loss=0.2165, acc=0.9444\n",
      "Model ./models/expmodel.chkpt saved\n"
     ]
    }
   ],
   "source": [
    "import time\n",
    "from sklearn.utils import shuffle\n",
    "EPOCHS = 50\n",
    "PRINT_FREQ=10\n",
    "batch_size=512\n",
    "dropout_conv_keep_pct = 0.6\n",
    "dropout_fc_keep_pct = 0.5\n",
    "# Create our array of metrics    \n",
    "training_metrics = np.zeros((EPOCHS, 3))\n",
    "validation_metrics = np.zeros((EPOCHS, 3))\n",
    "saver = tf.train.Saver()\n",
    "\n",
    "with tf.Session(config=tf.ConfigProto(allow_soft_placement=True, log_device_placement=True)) as sess:            \n",
    "            \n",
    "    sess.run(tf.global_variables_initializer())\n",
    "    num_examples = len(X_train_grayscale_equalized_normalised)\n",
    "\n",
    "    print(\"Training {0} [epochs={1}, batch_size={2}]...\\n\".format(\"expmodel\", EPOCHS, batch_size))\n",
    "\n",
    "    for i in range(EPOCHS):\n",
    "        start = time.time()\n",
    "        X_train, Y_train = shuffle(X_train_grayscale_equalized_normalised, y_train)\n",
    "        for offset in range(0, num_examples, batch_size):\n",
    "            end = offset + batch_size\n",
    "            batch_x, batch_y = X_train[offset:end], Y_train[offset:end]\n",
    "            sess.run(training_operation, feed_dict={\n",
    "                x: batch_x, \n",
    "                y: batch_y, \n",
    "                dropout_placeholder_conv: dropout_conv_keep_pct,\n",
    "                dropout_placeholder_fc: dropout_fc_keep_pct,\n",
    "            })\n",
    "\n",
    "        end_training_time = time.time()\n",
    "        training_duration = end_training_time - start\n",
    "\n",
    "        #computing training accuracy\n",
    "        training_accuracy, training_loss = evaluate(X_train_grayscale_equalized_normalised, y_train, batch_size)            \n",
    "\n",
    "        # Computing validation accuracy \n",
    "        validation_accuracy, validation_loss = evaluate(X_valid_grayscale_equalized_normalised, y_valid, batch_size)\n",
    "\n",
    "        end_epoch_time = time.time()            \n",
    "        validation_duration = end_epoch_time - end_training_time   \n",
    "        epoch_duration = end_epoch_time - start\n",
    "\n",
    "        if i == 0 or (i+1) % PRINT_FREQ == 0:\n",
    "            print(\"[{0}]\\ttotal={1:.3f}s | train: time={2:.3f}s, loss={3:.4f}, acc={4:.4f} | val: time={5:.3f}s, loss={6:.4f}, acc={7:.4f}\".format(\n",
    "                    i+1, epoch_duration, training_duration, training_loss, training_accuracy, \n",
    "                validation_duration, validation_loss, validation_accuracy))\n",
    "\n",
    "        training_metrics[i] = [training_duration, training_loss, training_accuracy]\n",
    "        validation_metrics[i] = [validation_duration, validation_loss, validation_accuracy]\n",
    "\n",
    "    model_file_name = \"{0}{1}.chkpt\".format(models_path, \"expmodel\")\n",
    "    # Save the model\n",
    "    saver.save(sess, model_file_name)\n",
    "    print(\"Model {0} saved\".format(model_file_name))\n",
    "\n",
    "(tr_metrics, val_metrics, duration) = (training_metrics, validation_metrics, epoch_duration)"
   ]
  },
  {
   "cell_type": "code",
   "execution_count": 95,
   "metadata": {},
   "outputs": [
    {
     "name": "stdout",
     "output_type": "stream",
     "text": [
      "INFO:tensorflow:Restoring parameters from ./models/expmodel.chkpt\n",
      "[expmodel - Test Set]\ttime=15.739s, loss=0.3767, acc=0.9292\n"
     ]
    }
   ],
   "source": [
    "test_imgs = X_test_grayscale_equalized_normalised\n",
    "test_lbs = y_test\n",
    "with tf.Session() as sess:\n",
    "    # Never forget to re-initialise the variables\n",
    "    tf.global_variables_initializer()\n",
    "\n",
    "            \n",
    "    model_file_name = \"{0}{1}.chkpt\".format(models_path, \"expmodel\")\n",
    "    saver.restore(sess, model_file_name)\n",
    "\n",
    "    start = time.time()\n",
    "    (test_accuracy, test_loss) = evaluate(test_imgs, test_lbs, batch_size)\n",
    "    duration = time.time() - start\n",
    "    print(\"[{0} - Test Set]\\ttime={1:.3f}s, loss={2:.4f}, acc={3:.4f}\".format(\"expmodel\", duration, test_loss, test_accuracy))"
   ]
  },
  {
   "cell_type": "markdown",
   "metadata": {},
   "source": [
    "---\n",
    "\n",
    "## Step 3: Test a Model on New Images\n",
    "\n",
    "To give yourself more insight into how your model is working, download at least five pictures of German traffic signs from the web and use your model to predict the traffic sign type.\n",
    "\n",
    "You may find `signnames.csv` useful as it contains mappings from the class id (integer) to the actual sign name."
   ]
  },
  {
   "cell_type": "markdown",
   "metadata": {},
   "source": [
    "### Load and Output the Images"
   ]
  },
  {
   "cell_type": "code",
   "execution_count": 96,
   "metadata": {
    "collapsed": true
   },
   "outputs": [],
   "source": [
    "from PIL import Image\n",
    "import os\n",
    "\n",
    "def get_imgs_from_folder(path, size=(32, 32), grayscale=False):\n",
    "    \"\"\"  \n",
    "    Returns a list of images from a folder as a numpy array\n",
    "    \"\"\"\n",
    "    img_list = [os.path.join(path,f) for f in os.listdir(path) if f.endswith(\".jpg\") or f.endswith(\".png\")]\n",
    "    imgs = None \n",
    "    if grayscale:\n",
    "        imgs = np.empty([len(img_list), size[0], size[1]], dtype=np.uint8) \n",
    "    else:\n",
    "        imgs = np.empty([len(img_list), size[0], size[1], 3], dtype=np.uint8) \n",
    "\n",
    "    for i, img_path in enumerate(img_list):\n",
    "        img = Image.open(img_path).convert('RGB')\n",
    "        img = img.resize(size)\n",
    "        im = np.array(to_grayscale(img)) if grayscale else np.array(img)\n",
    "        imgs[i] = im\n",
    "\n",
    "    return imgs"
   ]
  },
  {
   "cell_type": "code",
   "execution_count": 97,
   "metadata": {},
   "outputs": [
    {
     "data": {
      "text/plain": [
       "(5, 32, 32, 3)"
      ]
     },
     "execution_count": 97,
     "metadata": {},
     "output_type": "execute_result"
    }
   ],
   "source": [
    "import numpy as np\n",
    "g_img = np.reshape(X_train_grayscale[15796], (32, 32))\n",
    "clahe = cv2.createCLAHE(tileGridSize=(4,4), clipLimit=40.0)\n",
    "cl1 = clahe.apply(g_img)\n",
    "new_imgs_dir = \"custom_images/\"\n",
    "new_imgs = get_imgs_from_folder(new_imgs_dir)\n",
    "new_img_grayscale_clahe = np.asarray(list(map(lambda img: clahe.apply(to_grayscale(img)), new_imgs)))\n",
    "new_imgs.shape"
   ]
  },
  {
   "cell_type": "code",
   "execution_count": 98,
   "metadata": {
    "collapsed": true
   },
   "outputs": [],
   "source": [
    "def class_ids_to_labels(cids):\n",
    "    return list(map(lambda cid: sign_names[sign_names[\"ClassId\"] == cid] [\"SignName\"].values[0],  cids))"
   ]
  },
  {
   "cell_type": "code",
   "execution_count": 99,
   "metadata": {
    "collapsed": true
   },
   "outputs": [],
   "source": [
    "def show_image_list(img_list, img_labels, title, cols=2, fig_size=(15, 15), show_ticks=True):\n",
    "    \"\"\"\n",
    "    Utility function to show us a list of traffic sign images\n",
    "    \"\"\"\n",
    "    img_count = len(img_list)\n",
    "    rows = img_count // cols\n",
    "    cmap = None\n",
    "\n",
    "    fig, axes = plt.subplots(rows, cols, figsize=fig_size)\n",
    "    \n",
    "    for i in range(0, img_count):\n",
    "        img_name = img_labels[i]     \n",
    "        img = img_list[i]\n",
    "        if len(img.shape) < 3 or img.shape[-1] < 3:\n",
    "            cmap = \"gray\"\n",
    "            img = np.reshape(img, (img.shape[0], img.shape[1]))\n",
    "        \n",
    "        if not show_ticks:            \n",
    "            axes[i].axis(\"off\")\n",
    "            \n",
    "        axes[i].imshow(img, cmap=cmap)\n",
    "    \n",
    "    fig.suptitle(title, fontsize=12, fontweight='bold', y = 0.6)\n",
    "    fig.tight_layout()\n",
    "    plt.show()\n",
    "    \n",
    "    return"
   ]
  },
  {
   "cell_type": "code",
   "execution_count": 100,
   "metadata": {},
   "outputs": [
    {
     "data": {
      "image/png": "[encoded data removed]",
      "text/plain": [
       "<matplotlib.figure.Figure at 0x14ed0a860>"
      ]
     },
     "metadata": {},
     "output_type": "display_data"
    }
   ],
   "source": [
    "# Load sign names file\n",
    "sign_names = pd.read_csv(\"signnames.csv\")\n",
    "sign_names.set_index(\"ClassId\")\n",
    "\n",
    "sign_names.head(n=3)\n",
    "# Let's also create the labels for our images\n",
    "new_img_lbs = np.array([8, 12, 15, 25, 16])\n",
    "new_img_lbs_text = class_ids_to_labels(new_img_lbs)\n",
    "#new_img_lbs_text\n",
    "show_image_list(new_imgs, new_img_lbs_text, \"New Traffic Sign Images (Color)\", cols=len(new_imgs), \n",
    "                fig_size=(6,6), show_ticks=False)"
   ]
  },
  {
   "cell_type": "markdown",
   "metadata": {},
   "source": [
    "### Predict the Sign Type for Each Image"
   ]
  },
  {
   "cell_type": "code",
   "execution_count": 101,
   "metadata": {
    "collapsed": true
   },
   "outputs": [],
   "source": [
    "# First normalise the images\n",
    "new_img_grayscale_clahe_normalised = normalise_images(new_img_grayscale_clahe, X_train_grayscale_equalized)"
   ]
  },
  {
   "cell_type": "code",
   "execution_count": 102,
   "metadata": {
    "collapsed": true
   },
   "outputs": [],
   "source": [
    "# Convert to a format Tensorflow understands\n",
    "new_img_grayscale_clahe_normalised = np.reshape(new_img_grayscale_clahe_normalised, (new_img_grayscale_clahe_normalised.shape[0], 32, 32, 1))"
   ]
  },
  {
   "cell_type": "code",
   "execution_count": 103,
   "metadata": {},
   "outputs": [
    {
     "name": "stdout",
     "output_type": "stream",
     "text": [
      "INFO:tensorflow:Restoring parameters from ./models/expmodel.chkpt\n"
     ]
    },
    {
     "data": {
      "text/plain": [
       "array([ 0,  8, 12, 25, 16])"
      ]
     },
     "execution_count": 103,
     "metadata": {},
     "output_type": "execute_result"
    }
   ],
   "source": [
    "# Let's run the predictions now\n",
    "preds = None\n",
    "prediction = tf.argmax(logits, 1)\n",
    "with tf.Session() as sess:\n",
    "    # Never forget to re-initialise the variables\n",
    "    tf.global_variables_initializer()\n",
    "\n",
    "    model_file_name = \"{0}{1}.chkpt\".format(models_path, \"expmodel\")\n",
    "    saver.restore(sess, model_file_name)\n",
    "            \n",
    "    preds = sess.run(prediction, feed_dict={\n",
    "        x: new_img_grayscale_clahe_normalised,\n",
    "        dropout_placeholder_conv: 1.0,\n",
    "        dropout_placeholder_fc: 1.0\n",
    "    })\n",
    "preds"
   ]
  },
  {
   "cell_type": "markdown",
   "metadata": {},
   "source": [
    "### Analyze Performance"
   ]
  },
  {
   "cell_type": "code",
   "execution_count": 104,
   "metadata": {},
   "outputs": [
    {
     "name": "stdout",
     "output_type": "stream",
     "text": [
      "[Grayscale Normalised] Predictional accuracy on new images: 40.0%\n"
     ]
    }
   ],
   "source": [
    "new_img_grayscale_norm_pred_acc = np.sum(new_img_lbs == preds) / len(preds)\n",
    "print(\"[Grayscale Normalised] Predictional accuracy on new images: {0}%\".format(new_img_grayscale_norm_pred_acc * 100))"
   ]
  },
  {
   "cell_type": "markdown",
   "metadata": {},
   "source": [
    "### Output Top 5 Softmax Probabilities For Each Image Found on the Web"
   ]
  },
  {
   "cell_type": "markdown",
   "metadata": {},
   "source": [
    "For each of the new images, print out the model's softmax probabilities to show the **certainty** of the model's predictions (limit the output to the top 5 probabilities for each image). [`tf.nn.top_k`](https://www.tensorflow.org/versions/r0.12/api_docs/python/nn.html#top_k) could prove helpful here. \n",
    "\n",
    "The example below demonstrates how tf.nn.top_k can be used to find the top k predictions for each image.\n",
    "\n",
    "`tf.nn.top_k` will return the values and indices (class ids) of the top k predictions. So if k=3, for each sign, it'll return the 3 largest probabilities (out of a possible 43) and the correspoding class ids.\n",
    "\n",
    "Take this numpy array as an example. The values in the array represent predictions. The array contains softmax probabilities for five candidate images with six possible classes. `tf.nn.top_k` is used to choose the three classes with the highest probability:\n",
    "\n",
    "```\n",
    "# (5, 6) array\n",
    "a = np.array([[ 0.24879643,  0.07032244,  0.12641572,  0.34763842,  0.07893497,\n",
    "         0.12789202],\n",
    "       [ 0.28086119,  0.27569815,  0.08594638,  0.0178669 ,  0.18063401,\n",
    "         0.15899337],\n",
    "       [ 0.26076848,  0.23664738,  0.08020603,  0.07001922,  0.1134371 ,\n",
    "         0.23892179],\n",
    "       [ 0.11943333,  0.29198961,  0.02605103,  0.26234032,  0.1351348 ,\n",
    "         0.16505091],\n",
    "       [ 0.09561176,  0.34396535,  0.0643941 ,  0.16240774,  0.24206137,\n",
    "         0.09155967]])\n",
    "```\n",
    "\n",
    "Running it through `sess.run(tf.nn.top_k(tf.constant(a), k=3))` produces:\n",
    "\n",
    "```\n",
    "TopKV2(values=array([[ 0.34763842,  0.24879643,  0.12789202],\n",
    "       [ 0.28086119,  0.27569815,  0.18063401],\n",
    "       [ 0.26076848,  0.23892179,  0.23664738],\n",
    "       [ 0.29198961,  0.26234032,  0.16505091],\n",
    "       [ 0.34396535,  0.24206137,  0.16240774]]), indices=array([[3, 0, 5],\n",
    "       [0, 1, 4],\n",
    "       [0, 5, 1],\n",
    "       [1, 3, 5],\n",
    "       [1, 4, 3]], dtype=int32))\n",
    "```\n",
    "\n",
    "Looking just at the first row we get `[ 0.34763842,  0.24879643,  0.12789202]`, you can confirm these are the 3 largest probabilities in `a`. You'll also notice `[3, 0, 5]` are the corresponding indices."
   ]
  },
  {
   "cell_type": "code",
   "execution_count": 117,
   "metadata": {},
   "outputs": [
    {
     "name": "stdout",
     "output_type": "stream",
     "text": [
      "INFO:tensorflow:Restoring parameters from ./models/expmodel.chkpt\n"
     ]
    },
    {
     "data": {
      "text/plain": [
       "TopKV2(values=array([[  9.99271810e-01,   6.87766355e-04,   3.92744878e-05,\n",
       "          8.28228565e-07,   1.45113418e-07],\n",
       "       [  6.55430794e-01,   3.09125334e-01,   1.12789124e-02,\n",
       "          9.21832304e-03,   4.62098792e-03],\n",
       "       [  1.00000000e+00,   7.56091545e-09,   5.02268296e-11,\n",
       "          3.01937884e-11,   2.20206700e-11],\n",
       "       [  8.58104408e-01,   1.12489484e-01,   1.85765419e-02,\n",
       "          3.29544581e-03,   3.10673076e-03],\n",
       "       [  5.19569993e-01,   4.79095131e-01,   1.33430364e-03,\n",
       "          4.61228723e-07,   2.03196578e-07]], dtype=float32), indices=array([[ 8,  3,  0, 32,  2],\n",
       "       [15, 14,  4, 13, 24],\n",
       "       [12,  9,  7, 17, 15],\n",
       "       [25, 14,  5, 12, 29],\n",
       "       [40, 16,  7, 12, 42]], dtype=int32))"
      ]
     },
     "execution_count": 117,
     "metadata": {},
     "output_type": "execute_result"
    }
   ],
   "source": [
    "new_img_grayscale_clahe_norm_top5_probs = None\n",
    "top5_predictions = tf.nn.top_k(tf.nn.softmax(logits), k=5, sorted=True, name=None)\n",
    "prediction = tf.argmax(logits, 1)\n",
    "with tf.Session() as sess:\n",
    "    tf.global_variables_initializer()\n",
    "\n",
    "    model_file_name = \"{0}{1}.chkpt\".format(models_path, \"expmodel\")\n",
    "    saver.restore(sess, model_file_name)\n",
    "            \n",
    "    new_img_grayscale_clahe_norm_top5_probs = sess.run(top5_predictions, feed_dict={\n",
    "                x: new_img_grayscale_clahe_normalised,\n",
    "                dropout_placeholder_conv: 1.0,\n",
    "                dropout_placeholder_fc: 1.0\n",
    "    })\n",
    "new_img_grayscale_clahe_norm_top5_probs"
   ]
  },
  {
   "cell_type": "code",
   "execution_count": 118,
   "metadata": {},
   "outputs": [
    {
     "data": {
      "text/plain": [
       "array([  9.99271810e-01,   6.87766355e-04,   3.92744878e-05,\n",
       "         8.28228565e-07,   1.45113418e-07], dtype=float32)"
      ]
     },
     "execution_count": 118,
     "metadata": {},
     "output_type": "execute_result"
    }
   ],
   "source": [
    "new_img_grayscale_clahe_norm_softmax_lbs_names = list(map(lambda cids: class_ids_to_labels(cids), new_img_grayscale_clahe_norm_top5_probs.indices))\n",
    "new_img_grayscale_clahe_norm_softmax_and_labels = (list(zip(new_img_grayscale_clahe_norm_top5_probs.values, new_img_grayscale_clahe_norm_softmax_lbs_names)))\n",
    "new_img_grayscale_clahe_norm_top5_probs.values[0]"
   ]
  },
  {
   "cell_type": "code",
   "execution_count": 119,
   "metadata": {},
   "outputs": [
    {
     "data": {
      "text/plain": [
       "array([ 8,  3,  0, 32,  2], dtype=int32)"
      ]
     },
     "execution_count": 119,
     "metadata": {},
     "output_type": "execute_result"
    }
   ],
   "source": [
    "new_img_grayscale_clahe_norm_top5_probs.indices[0]"
   ]
  },
  {
   "cell_type": "code",
   "execution_count": 120,
   "metadata": {},
   "outputs": [
    {
     "data": {
      "text/plain": [
       "(array([  9.99271810e-01,   6.87766355e-04,   3.92744878e-05,\n",
       "          8.28228565e-07,   1.45113418e-07], dtype=float32),\n",
       " ['Speed limit (120km/h)',\n",
       "  'Speed limit (60km/h)',\n",
       "  'Speed limit (20km/h)',\n",
       "  'End of all speed and passing limits',\n",
       "  'Speed limit (50km/h)'])"
      ]
     },
     "execution_count": 120,
     "metadata": {},
     "output_type": "execute_result"
    }
   ],
   "source": [
    "new_img_grayscale_clahe_norm_softmax_and_labels[0]"
   ]
  },
  {
   "cell_type": "code",
   "execution_count": 121,
   "metadata": {},
   "outputs": [
    {
     "data": {
      "text/plain": [
       "(array([ 0.65543079,  0.30912533,  0.01127891,  0.00921832,  0.00462099], dtype=float32),\n",
       " ['No vehicles',\n",
       "  'Stop',\n",
       "  'Speed limit (70km/h)',\n",
       "  'Yield',\n",
       "  'Road narrows on the right'])"
      ]
     },
     "execution_count": 121,
     "metadata": {},
     "output_type": "execute_result"
    }
   ],
   "source": [
    "new_img_grayscale_clahe_norm_softmax_and_labels[1]"
   ]
  },
  {
   "cell_type": "code",
   "execution_count": 122,
   "metadata": {},
   "outputs": [
    {
     "data": {
      "text/plain": [
       "(array([  1.00000000e+00,   7.56091545e-09,   5.02268296e-11,\n",
       "          3.01937884e-11,   2.20206700e-11], dtype=float32),\n",
       " ['Priority road',\n",
       "  'No passing',\n",
       "  'Speed limit (100km/h)',\n",
       "  'No entry',\n",
       "  'No vehicles'])"
      ]
     },
     "execution_count": 122,
     "metadata": {},
     "output_type": "execute_result"
    }
   ],
   "source": [
    "new_img_grayscale_clahe_norm_softmax_and_labels[2]"
   ]
  },
  {
   "cell_type": "code",
   "execution_count": 123,
   "metadata": {},
   "outputs": [
    {
     "data": {
      "text/plain": [
       "(array([ 0.85810441,  0.11248948,  0.01857654,  0.00329545,  0.00310673], dtype=float32),\n",
       " ['Road work',\n",
       "  'Stop',\n",
       "  'Speed limit (80km/h)',\n",
       "  'Priority road',\n",
       "  'Bicycles crossing'])"
      ]
     },
     "execution_count": 123,
     "metadata": {},
     "output_type": "execute_result"
    }
   ],
   "source": [
    "new_img_grayscale_clahe_norm_softmax_and_labels[3]"
   ]
  },
  {
   "cell_type": "code",
   "execution_count": 124,
   "metadata": {},
   "outputs": [
    {
     "data": {
      "text/plain": [
       "(array([  5.19569993e-01,   4.79095131e-01,   1.33430364e-03,\n",
       "          4.61228723e-07,   2.03196578e-07], dtype=float32),\n",
       " ['Roundabout mandatory',\n",
       "  'Vehicles over 3.5 metric tons prohibited',\n",
       "  'Speed limit (100km/h)',\n",
       "  'Priority road',\n",
       "  'End of no passing by vehicles over 3.5 metric tons'])"
      ]
     },
     "execution_count": 124,
     "metadata": {},
     "output_type": "execute_result"
    }
   ],
   "source": [
    "new_img_grayscale_clahe_norm_softmax_and_labels[4]"
   ]
  },
  {
   "cell_type": "markdown",
   "metadata": {},
   "source": [
    "### Project Writeup\n",
    "\n",
    "Once you have completed the code implementation, document your results in a project writeup using this [template](https://github.com/udacity/CarND-Traffic-Sign-Classifier-Project/blob/master/writeup_template.md) as a guide. The writeup can be in a markdown or pdf file. "
   ]
  },
  {
   "cell_type": "markdown",
   "metadata": {},
   "source": [
    "> **Note**: Once you have completed all of the code implementations and successfully answered each question above, you may finalize your work by exporting the iPython Notebook as an HTML document. You can do this by using the menu above and navigating to  \\n\",\n",
    "    \"**File -> Download as -> HTML (.html)**. Include the finished document along with this notebook as your submission."
   ]
  },
  {
   "cell_type": "markdown",
   "metadata": {},
   "source": [
    "---\n",
    "\n",
    "## Step 4 (Optional): Visualize the Neural Network's State with Test Images\n",
    "\n",
    " This Section is not required to complete but acts as an additional excersise for understaning the output of a neural network's weights. While neural networks can be a great learning device they are often referred to as a black box. We can understand what the weights of a neural network look like better by plotting their feature maps. After successfully training your neural network you can see what it's feature maps look like by plotting the output of the network's weight layers in response to a test stimuli image. From these plotted feature maps, it's possible to see what characteristics of an image the network finds interesting. For a sign, maybe the inner network feature maps react with high activation to the sign's boundary outline or to the contrast in the sign's painted symbol.\n",
    "\n",
    " Provided for you below is the function code that allows you to get the visualization output of any tensorflow weight layer you want. The inputs to the function should be a stimuli image, one used during training or a new one you provided, and then the tensorflow variable name that represents the layer's state during the training process, for instance if you wanted to see what the [LeNet lab's](https://classroom.udacity.com/nanodegrees/nd013/parts/fbf77062-5703-404e-b60c-95b78b2f3f9e/modules/6df7ae49-c61c-4bb2-a23e-6527e69209ec/lessons/601ae704-1035-4287-8b11-e2c2716217ad/concepts/d4aca031-508f-4e0b-b493-e7b706120f81) feature maps looked like for it's second convolutional layer you could enter conv2 as the tf_activation variable.\n",
    "\n",
    "For an example of what feature map outputs look like, check out NVIDIA's results in their paper [End-to-End Deep Learning for Self-Driving Cars](https://devblogs.nvidia.com/parallelforall/deep-learning-self-driving-cars/) in the section Visualization of internal CNN State. NVIDIA was able to show that their network's inner weights had high activations to road boundary lines by comparing feature maps from an image with a clear path to one without. Try experimenting with a similar test to show that your trained network's weights are looking for interesting features, whether it's looking at differences in feature maps from images with or without a sign, or even what feature maps look like in a trained network vs a completely untrained one on the same sign image.\n",
    "\n",
    "<figure>\n",
    " <img src=\"visualize_cnn.png\" width=\"380\" alt=\"Combined Image\" />\n",
    " <figcaption>\n",
    " <p></p> \n",
    " <p style=\"text-align: center;\"> Your output should look something like this (above)</p> \n",
    " </figcaption>\n",
    "</figure>\n",
    " <p></p> \n"
   ]
  },
  {
   "cell_type": "code",
   "execution_count": null,
   "metadata": {
    "collapsed": true
   },
   "outputs": [],
   "source": [
    "### Visualize your network's feature maps here.\n",
    "### Feel free to use as many code cells as needed.\n",
    "\n",
    "# image_input: the test image being fed into the network to produce the feature maps\n",
    "# tf_activation: should be a tf variable name used during your training procedure that represents the calculated state of a specific weight layer\n",
    "# activation_min/max: can be used to view the activation contrast in more detail, by default matplot sets min and max to the actual min and max values of the output\n",
    "# plt_num: used to plot out multiple different weight feature map sets on the same block, just extend the plt number for each new feature map entry\n",
    "\n",
    "def outputFeatureMap(image_input, tf_activation, activation_min=-1, activation_max=-1 ,plt_num=1):\n",
    "    # Here make sure to preprocess your image_input in a way your network expects\n",
    "    # with size, normalization, ect if needed\n",
    "    # image_input =\n",
    "    # Note: x should be the same name as your network's tensorflow data placeholder variable\n",
    "    # If you get an error tf_activation is not defined it may be having trouble accessing the variable from inside a function\n",
    "    activation = tf_activation.eval(session=sess,feed_dict={x : image_input})\n",
    "    featuremaps = activation.shape[3]\n",
    "    plt.figure(plt_num, figsize=(15,15))\n",
    "    for featuremap in range(featuremaps):\n",
    "        plt.subplot(6,8, featuremap+1) # sets the number of feature maps to show on each row and column\n",
    "        plt.title('FeatureMap ' + str(featuremap)) # displays the feature map number\n",
    "        if activation_min != -1 & activation_max != -1:\n",
    "            plt.imshow(activation[0,:,:, featuremap], interpolation=\"nearest\", vmin =activation_min, vmax=activation_max, cmap=\"gray\")\n",
    "        elif activation_max != -1:\n",
    "            plt.imshow(activation[0,:,:, featuremap], interpolation=\"nearest\", vmax=activation_max, cmap=\"gray\")\n",
    "        elif activation_min !=-1:\n",
    "            plt.imshow(activation[0,:,:, featuremap], interpolation=\"nearest\", vmin=activation_min, cmap=\"gray\")\n",
    "        else:\n",
    "            plt.imshow(activation[0,:,:, featuremap], interpolation=\"nearest\", cmap=\"gray\")"
   ]
  }
 ],
 "metadata": {
  "anaconda-cloud": {},
  "kernelspec": {
   "display_name": "Python 3",
   "language": "python",
   "name": "python3"
  },
  "language_info": {
   "codemirror_mode": {
    "name": "ipython",
    "version": 3
   },
   "file_extension": ".py",
   "mimetype": "text/x-python",
   "name": "python",
   "nbconvert_exporter": "python",
   "pygments_lexer": "ipython3",
   "version": "3.6.1"
  }
 },
 "nbformat": 4,
 "nbformat_minor": 1
}
